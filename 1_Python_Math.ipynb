{
  "cells": [
    {
      "cell_type": "markdown",
      "metadata": {
        "id": "C6jOQRHSoETo"
      },
      "source": [
        "<h1 style=\"text-align:center;\">Workshop Training</h1>\n",
        "\n",
        "<h2 style=\"text-align:center;\">LULC Analysis and Classification using Remote Sensing Data with Machine Learning Approach</h2>\n",
        "\n",
        "### Section 1: Python CrashCourse\n",
        "\n",
        "Run first python code by press Shift+Enter"
      ]
    },
    {
      "cell_type": "code",
      "execution_count": 1,
      "metadata": {
        "id": "FM-faHT5oETq",
        "outputId": "da898226-f044-45b5-d5f3-58367fdbbadb",
        "colab": {
          "base_uri": "https://localhost:8080/"
        }
      },
      "outputs": [
        {
          "output_type": "stream",
          "name": "stdout",
          "text": [
            "First Python Run!!\n"
          ]
        }
      ],
      "source": [
        "print(\"First Python Run!!\")"
      ]
    },
    {
      "cell_type": "markdown",
      "metadata": {
        "id": "IBGXLilToETr"
      },
      "source": [
        "We can document the code to explain what the code does and explain some theory about the code"
      ]
    },
    {
      "cell_type": "markdown",
      "metadata": {
        "id": "2rUHvmuGoETr"
      },
      "source": [
        "__Double Click Me!!__\n",
        "\n",
        "Try to Write Markdown Here\n",
        "\n",
        "You can write _Italic_, __bold__, <span style=\"color:blue\">*Colored*</span>.\n",
        "\n",
        "Markdown text describing something including ภาษาไทย\n",
        "\n",
        "# Defining Heading 1\n",
        "## Defining Heading 2\n",
        "### Defining Heading 3\n",
        "\n",
        "- List 1\n",
        "- List 2\n",
        "  - List 2.1\n",
        "\n",
        "\n",
        "Write somthing here..."
      ]
    },
    {
      "cell_type": "markdown",
      "metadata": {
        "id": "aDWrB9FnoETs"
      },
      "source": [
        "Latest cell ran single text string to show in output. Now, declare a variable to store some text inside and print it using variable names."
      ]
    },
    {
      "cell_type": "code",
      "execution_count": 2,
      "metadata": {
        "id": "Cd-VBZ8GoETs",
        "outputId": "3df925ad-2b45-467d-807a-1f6dda63ceec",
        "colab": {
          "base_uri": "https://localhost:8080/"
        }
      },
      "outputs": [
        {
          "output_type": "stream",
          "name": "stdout",
          "text": [
            "This is a string data\n",
            "This is another string data\n",
            "345\n"
          ]
        }
      ],
      "source": [
        "print(\"This is a string data\") # print simple string\n",
        "\n",
        "some_string = \"This is another string data\" # store text in variable\n",
        "some_number = 345 # store number in variable\n",
        "\n",
        "print(some_string) # print data in string variable\n",
        "\n",
        "print(some_number) # print data in number variable"
      ]
    },
    {
      "cell_type": "markdown",
      "metadata": {
        "id": "mGTfu6r0oETs"
      },
      "source": [
        "To print out message including mixing text and number, there are several ways"
      ]
    },
    {
      "cell_type": "code",
      "execution_count": 3,
      "metadata": {
        "id": "DTqciUC6oETt",
        "outputId": "69eab317-a948-499e-9505-2314426d7ce5",
        "colab": {
          "base_uri": "https://localhost:8080/"
        }
      },
      "outputs": [
        {
          "output_type": "stream",
          "name": "stdout",
          "text": [
            "This is a string data and another string data\n",
            "Print by normal message 345 This is another string data\n",
            "Print by format string message 345 with 345\n"
          ]
        }
      ],
      "source": [
        "print(\"This is a string data\" + \" and another string data\") # concat string by +\n",
        "\n",
        "print(\"Print by normal message\", some_number, some_string) # concat message by comma -> x,y,z,..\n",
        "\n",
        "print(f\"Print by format string message {some_number} with {some_number}\") # format printting using {x} to show data in blacket placement\n"
      ]
    },
    {
      "cell_type": "markdown",
      "metadata": {
        "id": "LC7W0CMvoETt"
      },
      "source": [
        "Explore some simple programmatically math calculations to explore __Arithmetic Operation__"
      ]
    },
    {
      "cell_type": "code",
      "execution_count": 4,
      "metadata": {
        "id": "bLcILEtIoETt",
        "outputId": "956fa8ad-b689-41e2-e3c9-996b27938838",
        "colab": {
          "base_uri": "https://localhost:8080/"
        }
      },
      "outputs": [
        {
          "output_type": "stream",
          "name": "stdout",
          "text": [
            "General Operator\n",
            "5\n",
            "4\n",
            "20\n",
            "4.5\n",
            "\n",
            "Additional Operator\n",
            "3\n",
            "1\n",
            "16\n"
          ]
        }
      ],
      "source": [
        "print('General Operator')\n",
        "\n",
        "# General Arithmetic Operators\n",
        "print(2+3) # Add\n",
        "print(5-1) # Subtract\n",
        "print(5*4) # Multiply\n",
        "print(18/4) # Divide\n",
        "\n",
        "print('\\nAdditional Operator')\n",
        "\n",
        "# Addditional Arithmetic Operators\n",
        "print(10//3) # Floor division\n",
        "print(10%3) # Modulus\n",
        "print(4**2) # Expotentiation (Power)"
      ]
    },
    {
      "cell_type": "markdown",
      "metadata": {
        "id": "n1gUhD6soETu"
      },
      "source": [
        "Do some math calculation using those arithmetic operators by math equation\n",
        "\n",
        "$$\n",
        " y = f(x)\n",
        "$$\n",
        "\n",
        "$$\n",
        " f(x) = mx +c\n",
        "$$\n",
        "\n",
        "$$\n",
        "y = 3x + 1\n",
        "$$"
      ]
    },
    {
      "cell_type": "code",
      "execution_count": 5,
      "metadata": {
        "id": "V7ZRVTX4oETu",
        "outputId": "83ce3442-79f6-43eb-f5dc-924eaf173e01",
        "colab": {
          "base_uri": "https://localhost:8080/"
        }
      },
      "outputs": [
        {
          "output_type": "stream",
          "name": "stdout",
          "text": [
            "The y is: 16\n"
          ]
        }
      ],
      "source": [
        "# Learn Variables by Linear Algebra\n",
        "\n",
        "# y = mx+c\n",
        "\n",
        "m = 3\n",
        "c = 1\n",
        "\n",
        "x = 5\n",
        "\n",
        "y = m * x +c\n",
        "\n",
        "print(f\"The y is: {y}\")"
      ]
    },
    {
      "cell_type": "markdown",
      "metadata": {
        "id": "nfKVABTsoETu"
      },
      "source": [
        "You may know what Fx (Function) in math. Now, try to create a function doing calculation that equation. We do same way as declaring a variable and put the formula like\n",
        "\n",
        "$$\n",
        "  f(x) = 5x + 7\n",
        "$$\n",
        "\n",
        "explore how to write Latex formula at <a href=\"https://bearnok.com/grva/en/knowledge/software/mathjax\">MathJax</a>"
      ]
    },
    {
      "cell_type": "code",
      "execution_count": 11,
      "metadata": {
        "id": "nWEl1hCpoETu"
      },
      "outputs": [],
      "source": [
        "def f(x):\n",
        "\n",
        "    m = 5\n",
        "    c = 7\n",
        "\n",
        "    return m*x + c"
      ]
    },
    {
      "cell_type": "markdown",
      "metadata": {
        "id": "P3B8V6NioETu"
      },
      "source": [
        "Since we declare function name as __f__ we can call `f()` and put some number for calculation inside `()`"
      ]
    },
    {
      "cell_type": "code",
      "execution_count": 12,
      "metadata": {
        "id": "sjB5TpaNoETu",
        "outputId": "78b232ba-99c6-4ae8-ac88-f27ce090b606",
        "colab": {
          "base_uri": "https://localhost:8080/"
        }
      },
      "outputs": [
        {
          "output_type": "execute_result",
          "data": {
            "text/plain": [
              "32"
            ]
          },
          "metadata": {},
          "execution_count": 12
        }
      ],
      "source": [
        "f(5)"
      ]
    },
    {
      "cell_type": "markdown",
      "metadata": {
        "id": "uysJEj04oETv"
      },
      "source": [
        "One calling can result only an output. To calculate many numbers, we can declare multiple numbers in `[]` we call __List__. each item seperated by comma `,`\n",
        "\n",
        "<br>\n",
        "\n",
        "To access number in List, it arrange the index from 0 - n (item members)"
      ]
    },
    {
      "cell_type": "code",
      "execution_count": 13,
      "metadata": {
        "id": "TsjjO1TdoETv",
        "outputId": "10cf34d6-82b1-4145-c330-ca1f6ac42eab",
        "colab": {
          "base_uri": "https://localhost:8080/"
        }
      },
      "outputs": [
        {
          "output_type": "stream",
          "name": "stdout",
          "text": [
            "Value in X at index 3 is 7\n"
          ]
        }
      ],
      "source": [
        "# Learn List by fx\n",
        "\n",
        "#idx[0,1,2,3,4,5]\n",
        "X = [2,4,6,7,8,9]\n",
        "\n",
        "call_index = 3 # in list, index 3 is 7\n",
        "\n",
        "print(f\"Value in X at index {call_index} is {X[call_index]}\")"
      ]
    },
    {
      "cell_type": "markdown",
      "metadata": {
        "id": "quzAgCeioETv"
      },
      "source": [
        "On order to calculate outputs using `f` function for all items in List, we can use `for ... in ... :` for looping each item in a list\n",
        "\n",
        "Additionally, we can declare empty List `Y` to store each output of each item."
      ]
    },
    {
      "cell_type": "code",
      "execution_count": 14,
      "metadata": {
        "id": "xqs04FGHoETv",
        "outputId": "753b2c80-313a-4050-9733-7db2084d5174",
        "colab": {
          "base_uri": "https://localhost:8080/"
        }
      },
      "outputs": [
        {
          "output_type": "stream",
          "name": "stdout",
          "text": [
            "Result list: [17, 27, 37, 42, 47, 52]\n"
          ]
        }
      ],
      "source": [
        "Y = [] # create empty list\n",
        "\n",
        "for each_x in X: # loop over each item\n",
        "\n",
        "    y = f(each_x) # calculate item output as y\n",
        "\n",
        "    Y.append(y) # add this output in Y List\n",
        "\n",
        "print(f\"Result list: {Y}\") # Print Y List"
      ]
    },
    {
      "cell_type": "markdown",
      "metadata": {
        "id": "2b_OAAZMoETv"
      },
      "source": [
        "For more information, python can do inline for loop that declare `[funcx(item) for item in list]`. It result list of outputs from `fx` function within a list variable"
      ]
    },
    {
      "cell_type": "code",
      "execution_count": 15,
      "metadata": {
        "id": "203qxDFLoETv",
        "outputId": "42445776-f510-42c6-d1e8-99f1c3fa7cc9",
        "colab": {
          "base_uri": "https://localhost:8080/"
        }
      },
      "outputs": [
        {
          "output_type": "execute_result",
          "data": {
            "text/plain": [
              "[17, 27, 37, 42, 47, 52]"
            ]
          },
          "metadata": {},
          "execution_count": 15
        }
      ],
      "source": [
        "[f(x) for x in X]"
      ]
    },
    {
      "cell_type": "markdown",
      "metadata": {
        "id": "FLvUhZegoETw"
      },
      "source": [
        "Then, suppose we want to keep only even number in the result. we can add `if ... else...` statement to control the flow"
      ]
    },
    {
      "cell_type": "code",
      "execution_count": 16,
      "metadata": {
        "id": "G1ibtCC0oETw",
        "outputId": "ca2b63fa-68ed-48b5-dff9-22aa80bd02d2",
        "colab": {
          "base_uri": "https://localhost:8080/"
        }
      },
      "outputs": [
        {
          "output_type": "stream",
          "name": "stdout",
          "text": [
            "Result list: [17, 27, 37, 47]\n"
          ]
        }
      ],
      "source": [
        "Y = [] # create empty list\n",
        "\n",
        "for each_x in X: # loop over each item\n",
        "\n",
        "    y = f(each_x) # calculate item output as y\n",
        "\n",
        "    if y % 2 == 0: # check that y is modulus 2 not equal to 0 (is even)\n",
        "        continue # if yes, skip this for loop item -> go to next item\n",
        "    else: # if not even number\n",
        "        Y.append(y) # add this output in Y List\n",
        "\n",
        "print(f\"Result list: {Y}\") # Print Y List"
      ]
    },
    {
      "cell_type": "markdown",
      "metadata": {
        "id": "AfH8Bfm6oETw"
      },
      "source": [
        "Suppose we have more functions to do calculations, we can put the funtion calling in another fuinction calling. For example, declare another function named `g`"
      ]
    },
    {
      "cell_type": "code",
      "execution_count": 17,
      "metadata": {
        "id": "RIWvSXD6oETw"
      },
      "outputs": [],
      "source": [
        "def g(x):\n",
        "\n",
        "    m = 2\n",
        "    c = 11\n",
        "\n",
        "    return m*x + c"
      ]
    },
    {
      "cell_type": "markdown",
      "metadata": {
        "id": "cW_KCJz9oETw"
      },
      "source": [
        "Normally, we call `fx` to calculate a number. This time we will call `g` over `f` again to let `g` use the result from `f` as an input"
      ]
    },
    {
      "cell_type": "code",
      "execution_count": 18,
      "metadata": {
        "id": "8ofor4c5oETw",
        "outputId": "2e88a55f-db64-48a7-967a-e75cd939e142",
        "colab": {
          "base_uri": "https://localhost:8080/"
        }
      },
      "outputs": [
        {
          "output_type": "execute_result",
          "data": {
            "text/plain": [
              "55"
            ]
          },
          "metadata": {},
          "execution_count": 18
        }
      ],
      "source": [
        "g(f(3))"
      ]
    },
    {
      "cell_type": "markdown",
      "metadata": {
        "id": "2yYd4R2JoETy"
      },
      "source": [
        "which equal to this math explanation\n",
        "\n",
        "$$\n",
        "f(x) = 5x + 7\n",
        "$$\n",
        "\n",
        "$$\n",
        "22 = 5(3) + 7\n",
        "$$\n",
        "\n",
        "Then\n",
        "\n",
        "$$\n",
        "g(x) = 2x + 11\n",
        "$$\n",
        "\n",
        "$$\n",
        "55 = 2(22) + 11\n",
        "$$\n"
      ]
    },
    {
      "cell_type": "markdown",
      "metadata": {
        "id": "BxLsJIG7oETy"
      },
      "source": [
        "### Tuple\n",
        "\n",
        "Tuple vairable is like list of vairable items which are immutable (only assign, no change) capsuleted by `()`. Usually used for constant variables decalration"
      ]
    },
    {
      "cell_type": "code",
      "execution_count": 19,
      "metadata": {
        "id": "xdJZB_F9oETy"
      },
      "outputs": [],
      "source": [
        "# Other tuple variables\n",
        "\n",
        "some_tuple = (99, g(2), f, \"string in tuple\")"
      ]
    },
    {
      "cell_type": "markdown",
      "metadata": {
        "id": "VB28Kok3oETy"
      },
      "source": [
        "Access item as well as list"
      ]
    },
    {
      "cell_type": "code",
      "execution_count": 20,
      "metadata": {
        "id": "Kjn8IAMpoETy",
        "outputId": "53117019-2da3-4af2-9fb5-39ea55736385",
        "colab": {
          "base_uri": "https://localhost:8080/"
        }
      },
      "outputs": [
        {
          "output_type": "stream",
          "name": "stdout",
          "text": [
            "99\n",
            "15\n",
            "<function f at 0x7cfe145a6830>\n",
            "string in tuple\n"
          ]
        }
      ],
      "source": [
        "print(some_tuple[0])\n",
        "print(some_tuple[1])\n",
        "print(some_tuple[2])\n",
        "print(some_tuple[3])"
      ]
    },
    {
      "cell_type": "markdown",
      "metadata": {
        "id": "bxYTKDhloETy"
      },
      "source": [
        "### Dictionary\n",
        "\n",
        "Dictionary is JSON like varable which has _key_ and _value_. We can have nested dictionaries mixed with various types of items, generic, list, tuple, dict even function."
      ]
    },
    {
      "cell_type": "code",
      "execution_count": 21,
      "metadata": {
        "id": "wHQeKOB7oETz",
        "outputId": "e274551e-72fa-42a8-b681-1a046d758f8a",
        "colab": {
          "base_uri": "https://localhost:8080/"
        }
      },
      "outputs": [
        {
          "output_type": "stream",
          "name": "stdout",
          "text": [
            "value1\n",
            "77\n",
            "Roi-Et\n"
          ]
        }
      ],
      "source": [
        "some_dict = {\"key1\": \"value1\",\n",
        "             \"random_number\": 77,\n",
        "             101: \"Roi-Et\"}\n",
        "\n",
        "\n",
        "print(some_dict['key1'])\n",
        "print(some_dict['random_number'])\n",
        "print(some_dict[101])"
      ]
    },
    {
      "cell_type": "markdown",
      "metadata": {
        "id": "AoA32x91oETz"
      },
      "source": [
        "## Excercise\n",
        "\n",
        "We familiarize the general python coding and some mathematical operations. Here is an exercise to calculate physics formula by function as fast quiz\n",
        "\n",
        "Given Energy conservation eqaution (Mechanical Energy) from Kinetic Energy and Potential energy\n",
        "\n",
        "$$\n",
        "ME = \\frac{1}{2}mv^2 +mgh\n",
        "$$"
      ]
    },
    {
      "cell_type": "code",
      "execution_count": 22,
      "metadata": {
        "id": "HiEAWovBoETz"
      },
      "outputs": [],
      "source": [
        "# Energy conservation rule\n",
        "\n",
        "#energy = 1/2*mv^2 + mgh\n",
        "\n",
        "m = 20 # kg\n",
        "v = 5 # m/sec\n",
        "g = 9.8 # m/v/v\n",
        "h = 7 # m\n",
        "\n",
        "# energy?"
      ]
    },
    {
      "cell_type": "markdown",
      "metadata": {
        "id": "mvG2WwomoETz"
      },
      "source": [
        "Make a function"
      ]
    },
    {
      "cell_type": "code",
      "execution_count": 26,
      "metadata": {
        "id": "s4nWCtJHoETz"
      },
      "outputs": [],
      "source": [
        "def calc_energy(m,v,g,h):\n",
        "\n",
        "    # Code here\n",
        "\n",
        "    return 0.5*m*v**v+m*g*h\n"
      ]
    },
    {
      "cell_type": "markdown",
      "metadata": {
        "id": "f0bVgNqdoET4"
      },
      "source": [
        "Test your function"
      ]
    },
    {
      "cell_type": "code",
      "execution_count": 27,
      "metadata": {
        "id": "aaQLyuQVoET4",
        "outputId": "32a147d6-b418-4cdc-e2ba-0f4ddf5058ba",
        "colab": {
          "base_uri": "https://localhost:8080/"
        }
      },
      "outputs": [
        {
          "output_type": "stream",
          "name": "stdout",
          "text": [
            "Energy is: 32622.0 J\n"
          ]
        }
      ],
      "source": [
        "print(f'Energy is: {calc_energy(m,v,g,h)} J')"
      ]
    },
    {
      "cell_type": "markdown",
      "metadata": {
        "id": "MxEr65ifoET4"
      },
      "source": [
        "## Loop over sequence variables"
      ]
    },
    {
      "cell_type": "code",
      "execution_count": 28,
      "metadata": {
        "id": "Y5KSa5eboET4"
      },
      "outputs": [],
      "source": [
        "countries = ['Thailand', 'England', 'USA', 'Japan']"
      ]
    },
    {
      "cell_type": "markdown",
      "metadata": {
        "id": "V5x_7BvXoET4"
      },
      "source": [
        "For loop"
      ]
    },
    {
      "cell_type": "code",
      "execution_count": 29,
      "metadata": {
        "id": "o7fi34tJoET4",
        "outputId": "754ea51c-06c0-4f36-faa1-5b884d70fef6",
        "colab": {
          "base_uri": "https://localhost:8080/"
        }
      },
      "outputs": [
        {
          "output_type": "stream",
          "name": "stdout",
          "text": [
            "Thailand\n",
            "England\n",
            "USA\n",
            "Japan\n"
          ]
        }
      ],
      "source": [
        "for country in countries:\n",
        "\n",
        "    print(country)"
      ]
    },
    {
      "cell_type": "markdown",
      "metadata": {
        "id": "-Qok1iDmoET5"
      },
      "source": [
        "`enumerate` will extract the idx of item with item at a time of generator"
      ]
    },
    {
      "cell_type": "code",
      "execution_count": 30,
      "metadata": {
        "id": "IRoSyW86oET5",
        "outputId": "61352a34-1e31-475f-d398-e9922eae85cc",
        "colab": {
          "base_uri": "https://localhost:8080/"
        }
      },
      "outputs": [
        {
          "output_type": "stream",
          "name": "stdout",
          "text": [
            "Thailand is index 0\n",
            "England is index 1\n",
            "USA is index 2\n",
            "Japan is index 3\n"
          ]
        }
      ],
      "source": [
        "for index, country in enumerate(countries):\n",
        "\n",
        "    print(f'{country} is index {index}')"
      ]
    },
    {
      "cell_type": "markdown",
      "metadata": {
        "id": "g4ChaiSioET5"
      },
      "source": [
        "Suppose we have another list"
      ]
    },
    {
      "cell_type": "code",
      "execution_count": 31,
      "metadata": {
        "id": "inKO45S7oET5"
      },
      "outputs": [],
      "source": [
        "nationalities = ['Thai', 'English', 'American', 'Japanese']"
      ]
    },
    {
      "cell_type": "markdown",
      "metadata": {
        "id": "AGYteHYDoET5"
      },
      "source": [
        "`zip` bundles together the two or more list to extract at a time of generator"
      ]
    },
    {
      "cell_type": "code",
      "execution_count": 32,
      "metadata": {
        "id": "YDovKUzqoET5",
        "outputId": "a836a6c5-3254-409c-e23a-d5e573a4653f",
        "colab": {
          "base_uri": "https://localhost:8080/"
        }
      },
      "outputs": [
        {
          "output_type": "stream",
          "name": "stdout",
          "text": [
            "people in Thailand is Thai\n",
            "people in England is English\n",
            "people in USA is American\n",
            "people in Japan is Japanese\n"
          ]
        }
      ],
      "source": [
        "for country, nationality in zip(countries, nationalities):\n",
        "\n",
        "    print(f'people in {country} is {nationality}')"
      ]
    },
    {
      "cell_type": "markdown",
      "metadata": {
        "id": "N0ENepjQoET5"
      },
      "source": [
        "## Mathematic Calculation in Linear Algebra\n",
        "\n",
        "This helps more understanding about mathematical operations in more easier rather using straight tuple vairable when dealing with multi-dimensional data structures. For example, a dataset can have sample axis, feature axis, time sequence axis in which represent in many dimension of data"
      ]
    },
    {
      "cell_type": "code",
      "execution_count": 33,
      "metadata": {
        "id": "zy9ELMS3oET6"
      },
      "outputs": [],
      "source": [
        "import numpy as np\n",
        "\n",
        "np.set_printoptions(suppress=True, precision=3)"
      ]
    },
    {
      "cell_type": "markdown",
      "metadata": {
        "id": "mg_lN-xqoET6"
      },
      "source": [
        "__Algebra Basic__\n",
        "<br>\n",
        "- _scalar_: a single number (e.g. value) <br>\n",
        "- _vector_: Sequential 1-D numbers represent direction and length of each feature (e.g. Spectral colors R G B etc.) <br>\n",
        "- _matrix_: Tabular-like 2-D numbers represent values of interested object (e.g. sample, count)) <br>\n",
        "- _tensor_: multi-dimensional number extensing from length and direction such as time and spatial (e.g. time, spatial window) <br>\n",
        "\n",
        "![](https://miro.medium.com/v2/resize:fit:1008/1*tN5uOe_VdzFcNpRcYFeMqQ.jpeg)"
      ]
    },
    {
      "cell_type": "code",
      "execution_count": 34,
      "metadata": {
        "id": "NqNWed_koET6"
      },
      "outputs": [],
      "source": [
        "scalar = 7\n",
        "vector = [3, 6, 7]\n",
        "matrix = [[1, 5, 0, 2],\n",
        "          [8, 2, 9, 6],\n",
        "          [7, 6, 3, 4]]"
      ]
    },
    {
      "cell_type": "markdown",
      "metadata": {
        "id": "DNr6GgrJoET6"
      },
      "source": [
        "Scalar and Vector are simply single value and list of scalar composing more dimension of number. Matrix and 2-D representation of multi-dimensionality that we can represent in readable format.\n",
        "\n",
        "<br>\n",
        "\n",
        "to access the data in matrix, we call `[idx]` after the variable"
      ]
    },
    {
      "cell_type": "code",
      "execution_count": 35,
      "metadata": {
        "id": "1pge3Lt3oET6",
        "outputId": "c7f2728b-2396-4067-887d-c9a124baab4f",
        "colab": {
          "base_uri": "https://localhost:8080/"
        }
      },
      "outputs": [
        {
          "output_type": "execute_result",
          "data": {
            "text/plain": [
              "5"
            ]
          },
          "metadata": {},
          "execution_count": 35
        }
      ],
      "source": [
        "matrix[0][1] # row 0 column 1"
      ]
    },
    {
      "cell_type": "markdown",
      "metadata": {
        "id": "WPztQSmRoET7"
      },
      "source": [
        "To know dimension of matrix, use `len(x)` to show length of list"
      ]
    },
    {
      "cell_type": "code",
      "execution_count": 36,
      "metadata": {
        "id": "MrCJmtL2oET7",
        "outputId": "f284f4cb-85c7-4eb6-d4b7-cfce663b5523",
        "colab": {
          "base_uri": "https://localhost:8080/"
        }
      },
      "outputs": [
        {
          "output_type": "stream",
          "name": "stdout",
          "text": [
            "3\n",
            "4\n"
          ]
        }
      ],
      "source": [
        "print(len(matrix))\n",
        "print(len(matrix[0]))"
      ]
    },
    {
      "cell_type": "markdown",
      "metadata": {
        "id": "PMiz2Id8oET7"
      },
      "source": [
        "However, It is more difficult to read and guess the dimension of matrix. We employ `numpy` tool to convert to numpy array type variable for more capability"
      ]
    },
    {
      "cell_type": "code",
      "execution_count": 37,
      "metadata": {
        "id": "YzWZWXfzoET7",
        "outputId": "47a6fe99-ecb5-42fa-fbf0-e201080879f9",
        "colab": {
          "base_uri": "https://localhost:8080/"
        }
      },
      "outputs": [
        {
          "output_type": "execute_result",
          "data": {
            "text/plain": [
              "array([[1, 5, 0, 2],\n",
              "       [8, 2, 9, 6],\n",
              "       [7, 6, 3, 4]])"
            ]
          },
          "metadata": {},
          "execution_count": 37
        }
      ],
      "source": [
        "np_matrix = np.asarray(matrix)\n",
        "np_matrix"
      ]
    },
    {
      "cell_type": "markdown",
      "metadata": {
        "id": "t3tf-q-0oET7"
      },
      "source": [
        "This matrix represents dataset has 3 samples and 4 features\n",
        "\n",
        "|  | f0 | f1 | f2 | f3 |\n",
        "|---|---|---|---|---|\n",
        "| s0 | 1 | 5 | 0 | 2 |\n",
        "| s1 | 8 | 2 | 9 | 6 |\n",
        "| s2 | 7 | 6 | 3 | 4 |\n",
        "\n",
        "that more easier to access value and shape of data"
      ]
    },
    {
      "cell_type": "code",
      "execution_count": 39,
      "metadata": {
        "id": "AKCrGy_SoET7",
        "outputId": "3aabbb3b-6a74-476b-a8de-4d2da4c18ed0",
        "colab": {
          "base_uri": "https://localhost:8080/"
        }
      },
      "outputs": [
        {
          "output_type": "stream",
          "name": "stdout",
          "text": [
            "value in row 0, colum 3 ->  2\n",
            "shape of matrix -> (3, 4)\n"
          ]
        }
      ],
      "source": [
        "print('value in row 0, colum 3 -> ', np_matrix[0, 3])\n",
        "\n",
        "print('shape of matrix ->' , np_matrix.shape)"
      ]
    },
    {
      "cell_type": "markdown",
      "metadata": {
        "id": "oKhhg1sooET8"
      },
      "source": [
        "Linear algebra equation\n",
        "\n",
        "$$\n",
        "\n",
        "y = m*x +c\n",
        "\n",
        "\n",
        "\n",
        "$$\n",
        "\n",
        "extend to\n",
        "\n",
        "$$\n",
        "f(x) = w_1x_1 + w_2x_2 + w_3x_3 + w_4x_4 + w_nx_n + b\n",
        "$$\n",
        "\n",
        "or\n",
        "\n",
        "$$\n",
        "f(x) = W^TX + b\n",
        "$$\n",
        "\n",
        "in ML ways we usally use this to show in hypothesis function\n",
        "\n",
        "$$\n",
        "h_\\theta(x) = \\theta_0 + \\theta_1x\n",
        "$$\n",
        "\n",
        "All are same thing referring to linear algebra\n"
      ]
    },
    {
      "cell_type": "code",
      "execution_count": 40,
      "metadata": {
        "id": "8OnB9bGToET8",
        "outputId": "0c1f493f-97c6-4bb4-bc2d-da6ad9b8e9cf",
        "colab": {
          "base_uri": "https://localhost:8080/"
        }
      },
      "outputs": [
        {
          "output_type": "stream",
          "name": "stdout",
          "text": [
            "X matrix: \n",
            " [[1 5 0 2]\n",
            " [8 2 9 6]\n",
            " [7 6 3 4]]\n",
            "\n",
            " theta vector: \n",
            " [0.5 0.7 1.2 0.9]\n",
            "\n",
            " bias term: \n",
            " [5]\n"
          ]
        }
      ],
      "source": [
        "X = np_matrix.copy()\n",
        "W = np.array([0.5, 0.7, 1.2, 0.9])\n",
        "b = np.array([5])\n",
        "\n",
        "print('X matrix: \\n',X)\n",
        "print('\\n theta vector: \\n', W)\n",
        "print('\\n bias term: \\n',b)"
      ]
    },
    {
      "cell_type": "markdown",
      "metadata": {
        "id": "iHpMvle0oET8"
      },
      "source": [
        "\n",
        "![](https://lh3.googleusercontent.com/ThNU3UAuMF1OBCxP4TkVf5kwrs88bb4ncH1-KQgv69_1Mw_rBfgKYDG1f8XsOWMSRmaapKFMvHFMDAFh1GmlMBw3uA9307Yk8fxMe9s4CriMyqtvrZLoQB1LMAAbQLbDKgY5P3Gt)"
      ]
    },
    {
      "cell_type": "code",
      "execution_count": 41,
      "metadata": {
        "id": "dTe5ADJQoET8",
        "outputId": "e1cd29bb-ea28-46ea-dc8a-0982b9d031b3",
        "colab": {
          "base_uri": "https://localhost:8080/"
        }
      },
      "outputs": [
        {
          "output_type": "execute_result",
          "data": {
            "text/plain": [
              "array([10.8, 26.6, 19.9])"
            ]
          },
          "metadata": {},
          "execution_count": 41
        }
      ],
      "source": [
        "y = X @ W + b #  X dot W + b, equal to np.matmul(X, W) +b\n",
        "\n",
        "y"
      ]
    },
    {
      "cell_type": "code",
      "execution_count": 42,
      "metadata": {
        "id": "l4nm4xQ5oET8",
        "outputId": "ec1cf281-27f2-4f0d-a18f-06449e3a4928",
        "colab": {
          "base_uri": "https://localhost:8080/"
        }
      },
      "outputs": [
        {
          "output_type": "execute_result",
          "data": {
            "text/plain": [
              "array([10.8, 26.6, 19.9])"
            ]
          },
          "metadata": {},
          "execution_count": 42
        }
      ],
      "source": [
        "np.dot(X, W) + b"
      ]
    },
    {
      "cell_type": "code",
      "execution_count": 43,
      "metadata": {
        "id": "pEkqr9AsoET8",
        "outputId": "fbf0da9c-4c3b-471d-868b-511e64f251ec",
        "colab": {
          "base_uri": "https://localhost:8080/"
        }
      },
      "outputs": [
        {
          "output_type": "execute_result",
          "data": {
            "text/plain": [
              "array([10.8, 26.6, 19.9])"
            ]
          },
          "metadata": {},
          "execution_count": 43
        }
      ],
      "source": [
        "np.matmul(X, W) + b"
      ]
    },
    {
      "cell_type": "markdown",
      "metadata": {
        "id": "dJFnBHL0oET8"
      },
      "source": [
        "As mentioned above, output of vectorized operations are results of each row (samples). This is more good in case we have more samples which takes longer computation time than looping over list variables\n",
        "\n",
        "<br><br>\n",
        "\n",
        "## Tensor\n",
        "\n",
        "Additionally, this is more advanced to create tensor which we could not illustrate in tabular form like previous. For example,"
      ]
    },
    {
      "cell_type": "code",
      "execution_count": 44,
      "metadata": {
        "id": "psEXQOm5oET9",
        "outputId": "4f41636e-b904-4b8f-b0cc-f7109752232c",
        "colab": {
          "base_uri": "https://localhost:8080/"
        }
      },
      "outputs": [
        {
          "output_type": "execute_result",
          "data": {
            "text/plain": [
              "(3, 5, 6)"
            ]
          },
          "metadata": {},
          "execution_count": 44
        }
      ],
      "source": [
        "a = np.random.randint(low=15000, high=25000, size=(3,5,6))\n",
        "a.shape"
      ]
    },
    {
      "cell_type": "markdown",
      "metadata": {
        "id": "0TWj8lqgoET9"
      },
      "source": [
        "The shape of `a` tensor has 3-dimension that we have to rely on showing individual matrix instead of show 3D matrix"
      ]
    },
    {
      "cell_type": "code",
      "execution_count": 45,
      "metadata": {
        "id": "mLbFGGwSoET9",
        "outputId": "a81e570c-cbda-43a7-e2a8-16ed946ed010",
        "colab": {
          "base_uri": "https://localhost:8080/"
        }
      },
      "outputs": [
        {
          "output_type": "stream",
          "name": "stdout",
          "text": [
            "[[23979 21841 20393 23633 22839 24143]\n",
            " [15115 21293 20086 24721 24929 15540]\n",
            " [21714 15353 19778 18420 23869 15389]\n",
            " [16121 16919 20069 18568 23029 21904]\n",
            " [19840 22000 24551 15134 16771 18794]] (0, *, *)\n",
            "[[21830 22257 16195 15374 19798 21810]\n",
            " [16845 21842 16309 17855 18343 23246]\n",
            " [22738 22045 19232 24018 21346 24206]\n",
            " [20241 21427 22084 22391 23607 17868]\n",
            " [24005 20829 15738 20201 16873 20519]] (1, *, *)\n",
            "[[22831 20377 18685 16614 20341 15338]\n",
            " [24836 23103 22714 18575 22586 19278]\n",
            " [22970 20313 20877 22700 20001 16127]\n",
            " [15002 15695 24594 23284 20243 21311]\n",
            " [23420 18066 19440 17457 24510 17248]] (2, *, *)\n"
          ]
        }
      ],
      "source": [
        "print(a[0], '(0, *, *)')\n",
        "print(a[1], '(1, *, *)')\n",
        "print(a[2], '(2, *, *)')"
      ]
    },
    {
      "cell_type": "markdown",
      "metadata": {
        "id": "d9RDQGOtoET9"
      },
      "source": [
        "Suppose above tensor is like satellite image which has 3 bands, 5 height, 6 width. To access a pixel at index 2,2 by every bands we can call"
      ]
    },
    {
      "cell_type": "code",
      "execution_count": 46,
      "metadata": {
        "id": "Lc--t-g3oET9",
        "outputId": "5dfee672-a501-4287-bd36-60a0bd7900d4",
        "colab": {
          "base_uri": "https://localhost:8080/"
        }
      },
      "outputs": [
        {
          "output_type": "execute_result",
          "data": {
            "text/plain": [
              "array([19778, 19232, 20877])"
            ]
          },
          "metadata": {},
          "execution_count": 46
        }
      ],
      "source": [
        "a[:, 2, 2]"
      ]
    },
    {
      "cell_type": "markdown",
      "metadata": {
        "id": "7KKKW3AHoET9"
      },
      "source": [
        "In general calculation of satellite image, we usually use a band-level data calculation. For example band A to calculate reflectance from Digital number of data such as landsat formula\n",
        "\n",
        "$$\n",
        "Reflectance = DN * 0.0000275 - 0.2\n",
        "$$\n",
        "\n",
        "we can make the formula to be a function like"
      ]
    },
    {
      "cell_type": "code",
      "execution_count": 47,
      "metadata": {
        "id": "tJeWtvGPoET9"
      },
      "outputs": [],
      "source": [
        "def reflectance_calc(x):\n",
        "\n",
        "    return x * 0.0000275 - 0.2"
      ]
    },
    {
      "cell_type": "markdown",
      "metadata": {
        "id": "SIxSGX9ooET-"
      },
      "source": [
        "We can write as lambda function as"
      ]
    },
    {
      "cell_type": "code",
      "execution_count": 48,
      "metadata": {
        "id": "D__VdRHKoET-"
      },
      "outputs": [],
      "source": [
        "refl_calc = lambda x: x * 0.0000275 - 0.2"
      ]
    },
    {
      "cell_type": "markdown",
      "metadata": {
        "id": "mDAm--EToET-"
      },
      "source": [
        "to implement band-level calculation, pass the band numpy array data to the function\n",
        "\n",
        "![](https://pages.cms.hu-berlin.de/EOL/geo_rs/fig/s00_array_scaling.png)"
      ]
    },
    {
      "cell_type": "code",
      "execution_count": 49,
      "metadata": {
        "id": "6-tHZtu3oET-",
        "outputId": "d5d5d528-c2d1-4f63-cfae-1ee96cc92e83",
        "colab": {
          "base_uri": "https://localhost:8080/"
        }
      },
      "outputs": [
        {
          "output_type": "execute_result",
          "data": {
            "text/plain": [
              "array([[0.459, 0.401, 0.361, 0.45 , 0.428, 0.464],\n",
              "       [0.216, 0.386, 0.352, 0.48 , 0.486, 0.227],\n",
              "       [0.397, 0.222, 0.344, 0.307, 0.456, 0.223],\n",
              "       [0.243, 0.265, 0.352, 0.311, 0.433, 0.402],\n",
              "       [0.346, 0.405, 0.475, 0.216, 0.261, 0.317]])"
            ]
          },
          "metadata": {},
          "execution_count": 49
        }
      ],
      "source": [
        "reflectance_calc(a[0])"
      ]
    },
    {
      "cell_type": "markdown",
      "metadata": {
        "id": "GxSs9mDHoET-"
      },
      "source": [
        "Or use lambda function to calculate reflectance"
      ]
    },
    {
      "cell_type": "code",
      "execution_count": 50,
      "metadata": {
        "id": "01rEd5zuoET-",
        "outputId": "85ed3289-d466-4bda-a3e9-bdf704353b6a",
        "colab": {
          "base_uri": "https://localhost:8080/"
        }
      },
      "outputs": [
        {
          "output_type": "execute_result",
          "data": {
            "text/plain": [
              "array([[0.459, 0.401, 0.361, 0.45 , 0.428, 0.464],\n",
              "       [0.216, 0.386, 0.352, 0.48 , 0.486, 0.227],\n",
              "       [0.397, 0.222, 0.344, 0.307, 0.456, 0.223],\n",
              "       [0.243, 0.265, 0.352, 0.311, 0.433, 0.402],\n",
              "       [0.346, 0.405, 0.475, 0.216, 0.261, 0.317]])"
            ]
          },
          "metadata": {},
          "execution_count": 50
        }
      ],
      "source": [
        "refl_calc(a[0])"
      ]
    },
    {
      "cell_type": "markdown",
      "metadata": {
        "id": "yQfsoN62oET-"
      },
      "source": [
        "Same way, suppose there are 2 bands to calculate ND..I like (Normalized Difference)\n",
        "\n"
      ]
    },
    {
      "cell_type": "code",
      "execution_count": 51,
      "metadata": {
        "id": "chaYVtWkoET-",
        "outputId": "8eed31bb-8437-42b0-c444-4390dad71c7a",
        "colab": {
          "base_uri": "https://localhost:8080/"
        }
      },
      "outputs": [
        {
          "output_type": "execute_result",
          "data": {
            "text/plain": [
              "array([[ 0.047, -0.009,  0.115,  0.212,  0.071,  0.051],\n",
              "       [-0.054, -0.013,  0.104,  0.161,  0.152, -0.199],\n",
              "       [-0.023, -0.179,  0.014, -0.132,  0.056, -0.223],\n",
              "       [-0.113, -0.118, -0.048, -0.093, -0.012,  0.101],\n",
              "       [-0.095,  0.027,  0.219, -0.143, -0.003, -0.044]])"
            ]
          },
          "metadata": {},
          "execution_count": 51
        }
      ],
      "source": [
        "(a[0] - a[1]) / (a[0] + a[1])"
      ]
    },
    {
      "cell_type": "markdown",
      "metadata": {
        "id": "mmdSqbgAoET_"
      },
      "source": [
        "This is a basic of raster calculation using numpy by matrix (or tensor) data math.\n",
        "\n",
        "This actually should be in first part of the workshop, but it is good for learning about what are we doing first. This is essential lesson for remote sensing analysis; Data Type. We works with numeric data, so we could not avoid this to optimize solution for better usage"
      ]
    },
    {
      "cell_type": "code",
      "execution_count": 52,
      "metadata": {
        "id": "YRijJaTcoET_",
        "outputId": "4fdc707e-51a2-4fff-8564-50bb1561db2c",
        "colab": {
          "base_uri": "https://localhost:8080/"
        }
      },
      "outputs": [
        {
          "output_type": "stream",
          "name": "stdout",
          "text": [
            "Data typr is int64\n",
            "Comsume memmory 720  Bytes\n"
          ]
        }
      ],
      "source": [
        "import sys\n",
        "\n",
        "print(f'Data typr is', a.dtype)\n",
        "print(f'Comsume memmory', a.nbytes, ' Bytes')"
      ]
    },
    {
      "cell_type": "markdown",
      "metadata": {
        "id": "WbdKADfgoET_"
      },
      "source": [
        "Why int64?. we use `itemsize` to show size of an item in Bytes. It shows 8 bytes, and each byte has 8-bits. It therefore 8x8 = 64-bits number"
      ]
    },
    {
      "cell_type": "code",
      "execution_count": 53,
      "metadata": {
        "id": "kIanTtBFoET_",
        "outputId": "1232d4a5-b94d-400d-bedb-10f84c4b173f",
        "colab": {
          "base_uri": "https://localhost:8080/"
        }
      },
      "outputs": [
        {
          "output_type": "stream",
          "name": "stdout",
          "text": [
            " a tensor has memory size in each item 8 bytes which is 64 bits\n"
          ]
        }
      ],
      "source": [
        "item_byte = a.itemsize # 8\n",
        "item_bits = a.itemsize * 8 # 1 byte = 8 bits\n",
        "\n",
        "print(f' a tensor has memory size in each item {item_byte} bytes which is {item_bits} bits')"
      ]
    },
    {
      "cell_type": "markdown",
      "metadata": {
        "id": "sxX8ZnBMoET_"
      },
      "source": [
        "we know that each item is 8 bytes size with 90 items"
      ]
    },
    {
      "cell_type": "code",
      "execution_count": 54,
      "metadata": {
        "id": "JhR7Aa99oET_",
        "outputId": "e281ebb1-7576-428f-c771-5d9721c9f712",
        "colab": {
          "base_uri": "https://localhost:8080/"
        }
      },
      "outputs": [
        {
          "output_type": "stream",
          "name": "stdout",
          "text": [
            "(3, 5, 6)\n",
            "90\n",
            "a tensor has 90 items\n"
          ]
        }
      ],
      "source": [
        "print(a.shape)\n",
        "print(3 * 5 * 6)\n",
        "\n",
        "print(f'a tensor has {a.size} items')"
      ]
    },
    {
      "cell_type": "markdown",
      "metadata": {
        "id": "DpntfRkmoEUA"
      },
      "source": [
        "It takes memory for"
      ]
    },
    {
      "cell_type": "code",
      "execution_count": 55,
      "metadata": {
        "id": "8ivtzuH1oEUA",
        "outputId": "4ab90ef6-0de9-4fd5-c5a2-7aa68f4d0775",
        "colab": {
          "base_uri": "https://localhost:8080/"
        }
      },
      "outputs": [
        {
          "output_type": "stream",
          "name": "stdout",
          "text": [
            "a tensor consume 720 bytes for data\n"
          ]
        }
      ],
      "source": [
        "print(f'a tensor consume {a.size * a.itemsize} bytes for data')"
      ]
    },
    {
      "cell_type": "markdown",
      "metadata": {
        "id": "uHz38yBEoEUA"
      },
      "source": [
        "Or"
      ]
    },
    {
      "cell_type": "code",
      "execution_count": 56,
      "metadata": {
        "id": "80vfFrFjoEUA",
        "outputId": "615116f5-53a3-45d4-bbff-6bbe020f864e",
        "colab": {
          "base_uri": "https://localhost:8080/"
        }
      },
      "outputs": [
        {
          "output_type": "execute_result",
          "data": {
            "text/plain": [
              "720"
            ]
          },
          "metadata": {},
          "execution_count": 56
        }
      ],
      "source": [
        "a.nbytes"
      ]
    },
    {
      "cell_type": "markdown",
      "metadata": {
        "id": "Wf4dG0eboEUA"
      },
      "source": [
        "Nevertheless, actual memory size takes"
      ]
    },
    {
      "cell_type": "code",
      "execution_count": 57,
      "metadata": {
        "id": "O3E3gSDhoEUA",
        "outputId": "8e344b88-7336-47c2-dafe-35c86c38df16",
        "colab": {
          "base_uri": "https://localhost:8080/"
        }
      },
      "outputs": [
        {
          "output_type": "execute_result",
          "data": {
            "text/plain": [
              "864"
            ]
          },
          "metadata": {},
          "execution_count": 57
        }
      ],
      "source": [
        "a.__sizeof__()"
      ]
    },
    {
      "cell_type": "markdown",
      "metadata": {
        "id": "SMTN-okXoEUA"
      },
      "source": [
        "This is explanation"
      ]
    },
    {
      "cell_type": "code",
      "execution_count": 58,
      "metadata": {
        "id": "GVMbC3zhoEUD",
        "outputId": "e7cbcf25-3460-4e87-f210-d6167975a8d7",
        "colab": {
          "base_uri": "https://localhost:8080/"
        }
      },
      "outputs": [
        {
          "output_type": "execute_result",
          "data": {
            "text/plain": [
              "array([[[23979, 21841, 20393, 23633, 22839, 24143],\n",
              "        [15115, 21293, 20086, 24721, 24929, 15540],\n",
              "        [21714, 15353, 19778, 18420, 23869, 15389],\n",
              "        [16121, 16919, 20069, 18568, 23029, 21904],\n",
              "        [19840, 22000, 24551, 15134, 16771, 18794]],\n",
              "\n",
              "       [[21830, 22257, 16195, 15374, 19798, 21810],\n",
              "        [16845, 21842, 16309, 17855, 18343, 23246],\n",
              "        [22738, 22045, 19232, 24018, 21346, 24206],\n",
              "        [20241, 21427, 22084, 22391, 23607, 17868],\n",
              "        [24005, 20829, 15738, 20201, 16873, 20519]],\n",
              "\n",
              "       [[22831, 20377, 18685, 16614, 20341, 15338],\n",
              "        [24836, 23103, 22714, 18575, 22586, 19278],\n",
              "        [22970, 20313, 20877, 22700, 20001, 16127],\n",
              "        [15002, 15695, 24594, 23284, 20243, 21311],\n",
              "        [23420, 18066, 19440, 17457, 24510, 17248]]])"
            ]
          },
          "metadata": {},
          "execution_count": 58
        }
      ],
      "source": [
        "a"
      ]
    },
    {
      "cell_type": "markdown",
      "metadata": {
        "id": "2FYUOdzdoEUD"
      },
      "source": [
        "Examine this, we have an array of 6 items, 5 arrays, 3 bands. each of array must have a pointer as reference index to rows and bands. So we need 8 pointers. The thing is each of pointer of `int64` need 8 bytes or 64-bits __Computer OS 64-bits__, then 144 bytes are reserved for those pointers"
      ]
    },
    {
      "cell_type": "code",
      "execution_count": 59,
      "metadata": {
        "id": "ph2J84_HoEUD",
        "outputId": "e1e7ce61-f191-4efc-d6c9-c6da53dffa8f",
        "colab": {
          "base_uri": "https://localhost:8080/"
        }
      },
      "outputs": [
        {
          "output_type": "execute_result",
          "data": {
            "text/plain": [
              "144"
            ]
          },
          "metadata": {},
          "execution_count": 59
        }
      ],
      "source": [
        "a.__sizeof__() - a.nbytes"
      ]
    },
    {
      "cell_type": "markdown",
      "metadata": {
        "id": "VxZgVLfjoEUD"
      },
      "source": [
        "What are learn from this is data type is important to memory allocation for raster. as large as data type requires more memory even computational resource to store, load, process, and save.\n",
        "\n",
        "We can convert the data type to something like `uint16` which smaller `4X` times"
      ]
    },
    {
      "cell_type": "code",
      "execution_count": 60,
      "metadata": {
        "id": "FOyt0pLQoEUD",
        "outputId": "94678d85-4124-497c-a984-63ea637522b6",
        "colab": {
          "base_uri": "https://localhost:8080/"
        }
      },
      "outputs": [
        {
          "output_type": "stream",
          "name": "stdout",
          "text": [
            "[[[23979 21841 20393 23633 22839 24143]\n",
            "  [15115 21293 20086 24721 24929 15540]\n",
            "  [21714 15353 19778 18420 23869 15389]\n",
            "  [16121 16919 20069 18568 23029 21904]\n",
            "  [19840 22000 24551 15134 16771 18794]]\n",
            "\n",
            " [[21830 22257 16195 15374 19798 21810]\n",
            "  [16845 21842 16309 17855 18343 23246]\n",
            "  [22738 22045 19232 24018 21346 24206]\n",
            "  [20241 21427 22084 22391 23607 17868]\n",
            "  [24005 20829 15738 20201 16873 20519]]\n",
            "\n",
            " [[22831 20377 18685 16614 20341 15338]\n",
            "  [24836 23103 22714 18575 22586 19278]\n",
            "  [22970 20313 20877 22700 20001 16127]\n",
            "  [15002 15695 24594 23284 20243 21311]\n",
            "  [23420 18066 19440 17457 24510 17248]]]\n",
            "180 324\n"
          ]
        }
      ],
      "source": [
        "a_16 = a.astype(np.uint16)\n",
        "\n",
        "print(a_16)\n",
        "\n",
        "print(a_16.nbytes, a_16.__sizeof__())"
      ]
    },
    {
      "cell_type": "markdown",
      "metadata": {
        "id": "OA1FF8uPoEUE"
      },
      "source": [
        "If we are not be careful, it accidentally assign as `float128`, it takes `2X` memory than `int64`"
      ]
    },
    {
      "cell_type": "code",
      "execution_count": 61,
      "metadata": {
        "id": "6A7Vn3V_oEUE",
        "outputId": "0ebeb6a4-9b31-4c8b-e63b-6d588b116fc9",
        "colab": {
          "base_uri": "https://localhost:8080/"
        }
      },
      "outputs": [
        {
          "output_type": "stream",
          "name": "stdout",
          "text": [
            "[[[23979. 21841. 20393. 23633. 22839. 24143.]\n",
            "  [15115. 21293. 20086. 24721. 24929. 15540.]\n",
            "  [21714. 15353. 19778. 18420. 23869. 15389.]\n",
            "  [16121. 16919. 20069. 18568. 23029. 21904.]\n",
            "  [19840. 22000. 24551. 15134. 16771. 18794.]]\n",
            "\n",
            " [[21830. 22257. 16195. 15374. 19798. 21810.]\n",
            "  [16845. 21842. 16309. 17855. 18343. 23246.]\n",
            "  [22738. 22045. 19232. 24018. 21346. 24206.]\n",
            "  [20241. 21427. 22084. 22391. 23607. 17868.]\n",
            "  [24005. 20829. 15738. 20201. 16873. 20519.]]\n",
            "\n",
            " [[22831. 20377. 18685. 16614. 20341. 15338.]\n",
            "  [24836. 23103. 22714. 18575. 22586. 19278.]\n",
            "  [22970. 20313. 20877. 22700. 20001. 16127.]\n",
            "  [15002. 15695. 24594. 23284. 20243. 21311.]\n",
            "  [23420. 18066. 19440. 17457. 24510. 17248.]]]\n",
            "1440 1584\n"
          ]
        }
      ],
      "source": [
        "a_128 = a.astype(np.float128)\n",
        "\n",
        "print(a_128)\n",
        "\n",
        "print(a_128.nbytes, a_128.__sizeof__())"
      ]
    },
    {
      "cell_type": "code",
      "execution_count": 61,
      "metadata": {
        "id": "_fyysXOYoEUE"
      },
      "outputs": [],
      "source": []
    }
  ],
  "metadata": {
    "kernelspec": {
      "display_name": "ttg-tes",
      "language": "python",
      "name": "python3"
    },
    "language_info": {
      "codemirror_mode": {
        "name": "ipython",
        "version": 3
      },
      "file_extension": ".py",
      "mimetype": "text/x-python",
      "name": "python",
      "nbconvert_exporter": "python",
      "pygments_lexer": "ipython3",
      "version": "3.10.15"
    },
    "colab": {
      "provenance": []
    }
  },
  "nbformat": 4,
  "nbformat_minor": 0
}